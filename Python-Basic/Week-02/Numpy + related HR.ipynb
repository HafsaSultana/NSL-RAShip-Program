{
 "cells": [
  {
   "cell_type": "code",
   "execution_count": 2,
   "metadata": {},
   "outputs": [
    {
     "name": "stdout",
     "output_type": "stream",
     "text": [
      "28000\n",
      "4000\n"
     ]
    }
   ],
   "source": [
    "import numpy as np\n",
    "import time\n",
    "import sys\n",
    "\n",
    "S=range(1000)\n",
    "\n",
    "print(sys.getsizeof(5)*len(S))\n",
    "\n",
    "a=np.arange(1000)\n",
    "print(a.size*a.itemsize)\n"
   ]
  },
  {
   "cell_type": "code",
   "execution_count": 8,
   "metadata": {},
   "outputs": [
    {
     "name": "stdout",
     "output_type": "stream",
     "text": [
      "(5,)\n"
     ]
    }
   ],
   "source": [
    "my_1D_array = np.array([1, 2, 3, 4, 5])\n",
    "print(my_1D_array.shape)"
   ]
  },
  {
   "cell_type": "code",
   "execution_count": 10,
   "metadata": {},
   "outputs": [
    {
     "name": "stdout",
     "output_type": "stream",
     "text": [
      "(3, 2)\n"
     ]
    }
   ],
   "source": [
    "my_2D_array = np.array([[1, 2],[3, 4],[6,5]])\n",
    "print(my_2D_array.shape)"
   ]
  },
  {
   "cell_type": "code",
   "execution_count": 13,
   "metadata": {},
   "outputs": [
    {
     "name": "stdout",
     "output_type": "stream",
     "text": [
      "[[1 2]\n",
      " [3 4]\n",
      " [5 6]]\n"
     ]
    }
   ],
   "source": [
    "change_array = np.array([1,2,3,4,5,6])\n",
    "change_array.shape = (3, 2)\n",
    "print(change_array)"
   ]
  },
  {
   "cell_type": "code",
   "execution_count": 30,
   "metadata": {},
   "outputs": [
    {
     "name": "stdout",
     "output_type": "stream",
     "text": [
      "[[1 2]\n",
      " [3 4]\n",
      " [5 6]]\n"
     ]
    }
   ],
   "source": [
    "my_array = np.array([1,2,3,4,5,6])\n",
    "print(np.reshape(my_array,(3,2)))\n"
   ]
  },
  {
   "cell_type": "markdown",
   "metadata": {},
   "source": [
    "# **np.reshape()**"
   ]
  },
  {
   "cell_type": "code",
   "execution_count": 33,
   "metadata": {},
   "outputs": [
    {
     "name": "stdout",
     "output_type": "stream",
     "text": [
      "1 2 3 4 5 6 7 8 9\n",
      "[[1 2 3]\n",
      " [4 5 6]\n",
      " [7 8 9]]\n"
     ]
    }
   ],
   "source": [
    "#HR_Shape and Reshape\n",
    "arr=[int(j) for j in input().split()]\n",
    "arr=np.array(arr)\n",
    "b=np.reshape(arr,(3,3))\n",
    "print(b)"
   ]
  },
  {
   "cell_type": "markdown",
   "metadata": {},
   "source": [
    "# **input with space of 1D array**"
   ]
  },
  {
   "cell_type": "code",
   "execution_count": 32,
   "metadata": {},
   "outputs": [
    {
     "name": "stdout",
     "output_type": "stream",
     "text": [
      "3\n",
      "2 3 4\n",
      "[2 3 4]\n"
     ]
    }
   ],
   "source": [
    "a=int(input())\n",
    "b=[int(j) for j in input().split()]\n",
    "print(np.array(b))"
   ]
  },
  {
   "cell_type": "markdown",
   "metadata": {},
   "source": [
    "# **Transpose and Flatten**"
   ]
  },
  {
   "cell_type": "code",
   "execution_count": 34,
   "metadata": {},
   "outputs": [
    {
     "name": "stdout",
     "output_type": "stream",
     "text": [
      "[[1 4]\n",
      " [2 5]\n",
      " [3 6]]\n"
     ]
    }
   ],
   "source": [
    "my_array = np.array([[1,2,3],\n",
    "                        [4,5,6]])\n",
    "print(np.transpose(my_array))"
   ]
  },
  {
   "cell_type": "code",
   "execution_count": 35,
   "metadata": {},
   "outputs": [
    {
     "name": "stdout",
     "output_type": "stream",
     "text": [
      "[1 2 3 4 5 6]\n"
     ]
    }
   ],
   "source": [
    "my_array = np.array([[1,2,3],\n",
    "                        [4,5,6]])\n",
    "print(my_array.flatten())"
   ]
  },
  {
   "cell_type": "markdown",
   "metadata": {},
   "source": [
    "# **input with space of 2D array**"
   ]
  },
  {
   "cell_type": "code",
   "execution_count": 43,
   "metadata": {},
   "outputs": [
    {
     "name": "stdout",
     "output_type": "stream",
     "text": [
      "2 3\n",
      "2 3\n",
      "2 3\n",
      "[[2 3]\n",
      " [2 3]]\n"
     ]
    }
   ],
   "source": [
    "n, m = map(int, input().split()) # taking number of rows and column\n",
    "\n",
    "arr = np.array([input().strip().split() for _ in range(n)], int)\n",
    "print(arr)"
   ]
  },
  {
   "cell_type": "code",
   "execution_count": 39,
   "metadata": {},
   "outputs": [
    {
     "name": "stdout",
     "output_type": "stream",
     "text": [
      "2 2\n",
      "2 3\n",
      "2 3\n",
      "[[2 2]\n",
      " [3 3]]\n",
      "[2 3 2 3]\n"
     ]
    }
   ],
   "source": [
    "#HR_Transpose and Flatten\n",
    "n, m = map(int, input().split()) # taking number of rows and column\n",
    "\n",
    "arr = np.array([input().strip().split() for _ in range(n)], int)\n",
    "\n",
    "print(np.transpose(arr))\n",
    "print(arr.flatten())"
   ]
  },
  {
   "cell_type": "markdown",
   "metadata": {},
   "source": [
    "# **Concatenate**"
   ]
  },
  {
   "cell_type": "code",
   "execution_count": 42,
   "metadata": {},
   "outputs": [
    {
     "name": "stdout",
     "output_type": "stream",
     "text": [
      "[1 2 3 4 5 6 7 8 9]\n"
     ]
    }
   ],
   "source": [
    "array_1 = np.array([1,2,3])\n",
    "array_2 = np.array([4,5,6])\n",
    "array_3 = np.array([7,8,9])\n",
    "\n",
    "print(np.concatenate((array_1, array_2, array_3))) \n"
   ]
  },
  {
   "cell_type": "code",
   "execution_count": 45,
   "metadata": {},
   "outputs": [
    {
     "name": "stdout",
     "output_type": "stream",
     "text": [
      "[[1 2 3 0 0 0]\n",
      " [0 0 0 7 8 9]]\n"
     ]
    }
   ],
   "source": [
    "array_1 = np.array([[1,2,3],[0,0,0]])\n",
    "array_2 = np.array([[0,0,0],[7,8,9]])\n",
    "\n",
    "print(np.concatenate((array_1, array_2), axis = 1))\n"
   ]
  },
  {
   "cell_type": "code",
   "execution_count": 47,
   "metadata": {},
   "outputs": [
    {
     "name": "stdout",
     "output_type": "stream",
     "text": [
      "4 3 2\n",
      "1 2\n",
      "1 2\n",
      "1 2\n",
      "1 2\n",
      "3 4\n",
      "3 4\n",
      "3 4\n",
      "[[1 2]\n",
      " [1 2]\n",
      " [1 2]\n",
      " [1 2]\n",
      " [3 4]\n",
      " [3 4]\n",
      " [3 4]]\n"
     ]
    }
   ],
   "source": [
    "#HR_Concatenate\n",
    "n, m , p= map(int, input().split())\n",
    "a1 = np.array([input().strip().split() for _ in range(n)], int)\n",
    "a2 = np.array([input().strip().split() for _ in range(m)], int)\n",
    "print(np.concatenate((a1, a2), axis = 0))"
   ]
  },
  {
   "cell_type": "markdown",
   "metadata": {},
   "source": [
    "# **Zeros and Ones**"
   ]
  },
  {
   "cell_type": "code",
   "execution_count": 50,
   "metadata": {},
   "outputs": [
    {
     "name": "stdout",
     "output_type": "stream",
     "text": [
      "[[0. 0.]]\n"
     ]
    }
   ],
   "source": [
    "print(np.zeros((1,2)))      #Default type is float"
   ]
  },
  {
   "cell_type": "code",
   "execution_count": 57,
   "metadata": {},
   "outputs": [
    {
     "name": "stdout",
     "output_type": "stream",
     "text": [
      "[[0 0]\n",
      " [0 0]]\n"
     ]
    }
   ],
   "source": [
    "print(np.zeros((2,2), dtype = np.int))  #Type changes to int"
   ]
  },
  {
   "cell_type": "code",
   "execution_count": 54,
   "metadata": {},
   "outputs": [
    {
     "name": "stdout",
     "output_type": "stream",
     "text": [
      "[[1. 1.]]\n"
     ]
    }
   ],
   "source": [
    "print(np.ones((1,2)))                  #Default type is float"
   ]
  },
  {
   "cell_type": "code",
   "execution_count": 56,
   "metadata": {},
   "outputs": [
    {
     "name": "stdout",
     "output_type": "stream",
     "text": [
      "[[1 1]\n",
      " [1 1]\n",
      " [1 1]]\n"
     ]
    }
   ],
   "source": [
    "print(np.ones((3,2), dtype = np.int)) #Type changes to int\n"
   ]
  },
  {
   "cell_type": "code",
   "execution_count": 62,
   "metadata": {},
   "outputs": [
    {
     "name": "stdout",
     "output_type": "stream",
     "text": [
      "3 3 3\n",
      "[[[0 0 0]\n",
      "  [0 0 0]\n",
      "  [0 0 0]]\n",
      "\n",
      " [[0 0 0]\n",
      "  [0 0 0]\n",
      "  [0 0 0]]\n",
      "\n",
      " [[0 0 0]\n",
      "  [0 0 0]\n",
      "  [0 0 0]]]\n",
      "[[[1 1 1]\n",
      "  [1 1 1]\n",
      "  [1 1 1]]\n",
      "\n",
      " [[1 1 1]\n",
      "  [1 1 1]\n",
      "  [1 1 1]]\n",
      "\n",
      " [[1 1 1]\n",
      "  [1 1 1]\n",
      "  [1 1 1]]]\n"
     ]
    }
   ],
   "source": [
    "#HR_Zeros and Ones\n",
    "n=tuple( map(int, input().split()))\n",
    "#print(n)\n",
    "print(np.zeros(n, dtype = np.int))\n",
    "print(np.ones(n, dtype = np.int))"
   ]
  },
  {
   "cell_type": "code",
   "execution_count": 64,
   "metadata": {},
   "outputs": [
    {
     "name": "stdout",
     "output_type": "stream",
     "text": [
      "2 3 4\n",
      "[[[0 0 0 0]\n",
      "  [0 0 0 0]\n",
      "  [0 0 0 0]]\n",
      "\n",
      " [[0 0 0 0]\n",
      "  [0 0 0 0]\n",
      "  [0 0 0 0]]]\n",
      "[[[1 1 1 1]\n",
      "  [1 1 1 1]\n",
      "  [1 1 1 1]]\n",
      "\n",
      " [[1 1 1 1]\n",
      "  [1 1 1 1]\n",
      "  [1 1 1 1]]]\n"
     ]
    }
   ],
   "source": [
    "#HR_Zeros and Ones\n",
    "n=list( map(int, input().split()))\n",
    "#print(n)\n",
    "print(np.zeros(n, dtype = np.int))\n",
    "print(np.ones(n, dtype = np.int))"
   ]
  },
  {
   "cell_type": "markdown",
   "metadata": {},
   "source": [
    "# Mathematics"
   ]
  },
  {
   "cell_type": "code",
   "execution_count": 9,
   "metadata": {},
   "outputs": [
    {
     "name": "stdout",
     "output_type": "stream",
     "text": [
      "1 2\n",
      "1 2\n",
      "3 4\n",
      "[[4. 6.]]\n",
      "[[-2. -2.]]\n",
      "[[3. 8.]]\n",
      "[[0.33333333 0.5       ]]\n",
      "[[1. 2.]]\n",
      "[[ 1. 16.]]\n"
     ]
    }
   ],
   "source": [
    "#HR_Array Mathematics\n",
    "\n",
    "\n",
    "n, m = map(int, input().split()) # taking number of rows and column\n",
    "\n",
    "a = np.array([input().strip().split() for _ in range(n)], float)\n",
    "\n",
    "b = np.array([input().strip().split() for _ in range(n)], float)\n",
    "\n",
    "print(a + b)\n",
    "print(a - b)\n",
    "print(a * b)\n",
    "print(a / b)\n",
    "print(a % b)\n",
    "print(a ** b)"
   ]
  },
  {
   "cell_type": "code",
   "execution_count": 7,
   "metadata": {},
   "outputs": [
    {
     "name": "stdout",
     "output_type": "stream",
     "text": [
      "3 3\n",
      "[[ 1.  0.  0.]\n",
      " [ 0.  1.  0.]\n",
      " [ 0.  0.  1.]]\n"
     ]
    }
   ],
   "source": [
    "#HR_Eye and Identity\n",
    "\n",
    "np.set_printoptions(legacy='1.13')\n",
    "\n",
    "n, m = map(int, input().split()) # taking number of rows and column\n",
    "\n",
    "print(np.eye(n, m, k = 0))"
   ]
  },
  {
   "cell_type": "markdown",
   "metadata": {},
   "source": [
    "# **min**"
   ]
  },
  {
   "cell_type": "code",
   "execution_count": 13,
   "metadata": {},
   "outputs": [
    {
     "name": "stdout",
     "output_type": "stream",
     "text": [
      "[1 0]\n",
      "[2 3 1 0]\n",
      "0\n",
      "0\n"
     ]
    }
   ],
   "source": [
    "my_array = np.array([[2, 5], \n",
    "                        [3, 7],\n",
    "                        [1, 3],\n",
    "                        [4, 0]])\n",
    "print(np.min(my_array, axis = 0))\n",
    "\n",
    "print(np.min(my_array, axis = 1) )\n",
    "\n",
    "print(np.min(my_array, axis = None))\n",
    "\n",
    "print(np.min(my_array))"
   ]
  },
  {
   "cell_type": "markdown",
   "metadata": {},
   "source": [
    "# **max**"
   ]
  },
  {
   "cell_type": "code",
   "execution_count": 14,
   "metadata": {},
   "outputs": [
    {
     "name": "stdout",
     "output_type": "stream",
     "text": [
      "[4 7]\n",
      "[5 7 3 4]\n",
      "7\n",
      "7\n"
     ]
    }
   ],
   "source": [
    "my_array = np.array([[2, 5], \n",
    "                        [3, 7],\n",
    "                        [1, 3],\n",
    "                        [4, 0]])\n",
    "print(np.max(my_array, axis = 0))\n",
    "\n",
    "print(np.max(my_array, axis = 1) )\n",
    "\n",
    "print(np.max(my_array, axis = None))\n",
    "\n",
    "print(np.max(my_array))"
   ]
  },
  {
   "cell_type": "code",
   "execution_count": 18,
   "metadata": {},
   "outputs": [
    {
     "name": "stdout",
     "output_type": "stream",
     "text": [
      "1 1\n",
      "1 1\n",
      "1\n"
     ]
    }
   ],
   "source": [
    "#HR_Min and Max\n",
    "n, m = map(int, input().split()) # taking number of rows and column\n",
    "\n",
    "a = np.array([input().strip().split() for _ in range(n)], int)\n",
    "\n",
    "mn =np.min(a, axis = 1) \n",
    "\n",
    "print(np.max(mn))"
   ]
  },
  {
   "cell_type": "markdown",
   "metadata": {},
   "source": [
    "# Sum and Prod"
   ]
  },
  {
   "cell_type": "code",
   "execution_count": 3,
   "metadata": {},
   "outputs": [
    {
     "name": "stdout",
     "output_type": "stream",
     "text": [
      "2 2\n",
      "1 2\n",
      "3 4\n",
      "24\n"
     ]
    }
   ],
   "source": [
    "# HR_Sum and Prod\n",
    "n, m = map(int, input().split()) # taking number of rows and column\n",
    "\n",
    "a = np.array([input().strip().split() for _ in range(n)], int)\n",
    "\n",
    "s =np.sum(a, axis = 0)\n",
    "\n",
    "print(np.prod(s))"
   ]
  },
  {
   "cell_type": "code",
   "execution_count": 44,
   "metadata": {},
   "outputs": [
    {
     "name": "stdout",
     "output_type": "stream",
     "text": [
      "2 2 \n",
      "1 2\n",
      "3 3\n",
      "[ 1.5  3. ]\n",
      "[ 1.    0.25]\n",
      "0.82915619759\n"
     ]
    }
   ],
   "source": [
    "# HR_Mean, Var, and Std\n",
    "\n",
    "n, m = map(int, input().split()) # taking number of rows and column\n",
    "\n",
    "a = np.array([input().strip().split() for _ in range(n)], int)\n",
    "\n",
    "m = np.mean(a, axis = 1)\n",
    "v = np.var(a, axis = 0) \n",
    "s = np.std(a)\n",
    "\n",
    "print(m)\n",
    "print(v)\n",
    "np.set_printoptions(legacy='1.13')\n",
    "if s==0:\n",
    "    print(0.0)\n",
    "else:\n",
    "    print(\"%.11f\" % s)\n",
    "#print(s)"
   ]
  },
  {
   "cell_type": "markdown",
   "metadata": {},
   "source": [
    "# Dot and Cross"
   ]
  },
  {
   "cell_type": "code",
   "execution_count": 16,
   "metadata": {},
   "outputs": [
    {
     "name": "stdout",
     "output_type": "stream",
     "text": [
      "2\n",
      "1 2\n",
      "3 4\n",
      "1 2\n",
      "3 4\n",
      "[[ 7 10]\n",
      " [15 22]]\n"
     ]
    }
   ],
   "source": [
    "#HR_Dot and Cross\n",
    "\n",
    "\n",
    "n = int(input()) # taking number of rows and column\n",
    "\n",
    "a = np.array([input().strip().split() for _ in range(n)], int)\n",
    "\n",
    "b = np.array([input().strip().split() for _ in range(n)], int)\n",
    "\n",
    "print(a.dot(b))\n"
   ]
  },
  {
   "cell_type": "code",
   "execution_count": 17,
   "metadata": {},
   "outputs": [
    {
     "name": "stdout",
     "output_type": "stream",
     "text": [
      "-2\n"
     ]
    }
   ],
   "source": [
    "import numpy\n",
    "\n",
    "A = numpy.array([ 1, 2 ])\n",
    "B = numpy.array([ 3, 4 ])\n",
    "\n",
    "print(numpy.cross(A, B)  )"
   ]
  },
  {
   "cell_type": "markdown",
   "metadata": {},
   "source": [
    "# Inner and Outer"
   ]
  },
  {
   "cell_type": "code",
   "execution_count": 19,
   "metadata": {},
   "outputs": [
    {
     "name": "stdout",
     "output_type": "stream",
     "text": [
      "2 3 4 5 6 72 3 45\n",
      "[2, 3, 4, 5, 6, 72, 3, 45]\n"
     ]
    }
   ],
   "source": [
    "n=list( map(int, input().split()))\n",
    "print(n)"
   ]
  },
  {
   "cell_type": "code",
   "execution_count": 21,
   "metadata": {},
   "outputs": [
    {
     "name": "stdout",
     "output_type": "stream",
     "text": [
      "3 4 5 6 7 8 8 \n",
      "[3 4 5 6 7 8 8]\n",
      "[3, 4, 5, 6, 7, 8, 8]\n"
     ]
    }
   ],
   "source": [
    "b=[int(j) for j in input().split()]\n",
    "print(np.array(b))   # array\n",
    "print(b)    # list"
   ]
  },
  {
   "cell_type": "code",
   "execution_count": 24,
   "metadata": {},
   "outputs": [
    {
     "name": "stdout",
     "output_type": "stream",
     "text": [
      "0 1\n",
      "2 3\n",
      "3\n",
      "[[0 0]\n",
      " [2 3]]\n"
     ]
    }
   ],
   "source": [
    "#HR_Inner and Outer\n",
    "a=np.array([int(j) for j in input().split()])\n",
    "\n",
    "b=np.array([int(j) for j in input().split()])\n",
    "\n",
    "\n",
    "print(np.inner(a,b))\n",
    "print(np.outer(a,b))"
   ]
  },
  {
   "cell_type": "code",
   "execution_count": null,
   "metadata": {},
   "outputs": [],
   "source": []
  }
 ],
 "metadata": {
  "kernelspec": {
   "display_name": "Python 3",
   "language": "python",
   "name": "python3"
  },
  "language_info": {
   "codemirror_mode": {
    "name": "ipython",
    "version": 3
   },
   "file_extension": ".py",
   "mimetype": "text/x-python",
   "name": "python",
   "nbconvert_exporter": "python",
   "pygments_lexer": "ipython3",
   "version": "3.7.4"
  }
 },
 "nbformat": 4,
 "nbformat_minor": 2
}
