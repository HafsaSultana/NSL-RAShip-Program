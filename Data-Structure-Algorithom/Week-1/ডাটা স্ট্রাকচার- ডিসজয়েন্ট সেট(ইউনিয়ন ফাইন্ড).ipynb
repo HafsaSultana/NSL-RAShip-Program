{
 "cells": [
  {
   "cell_type": "code",
   "execution_count": 2,
   "metadata": {},
   "outputs": [],
   "source": [
    "#Python2.7.6\n",
    "#assume a=1,b=2,c=3,d=4,e=5\n",
    "element=5\n",
    "par=[None]*(element+1) #Creating an array with 6 elements\n",
    "\n",
    "\n",
    "def makeset(n):\n",
    "    par[n]=n\n",
    "\n",
    "for i in range(1,element+1):\n",
    "    makeset(i)"
   ]
  },
  {
   "cell_type": "code",
   "execution_count": 4,
   "metadata": {},
   "outputs": [],
   "source": [
    "#Python2.7.6\n",
    "def union(a,b):\n",
    "    u=find(a)\n",
    "    v=find(b)\n",
    "    if u==v: \n",
    "        print(\"They are already friends\")\n",
    "    else: \n",
    "        par[u]=v #Or you can write par[v]=u too"
   ]
  },
  {
   "cell_type": "code",
   "execution_count": 5,
   "metadata": {},
   "outputs": [],
   "source": [
    "#python2.7.6\n",
    "def find(r):\n",
    "    if par[r]==r: return r\n",
    "    return find(par[r])"
   ]
  },
  {
   "cell_type": "code",
   "execution_count": 6,
   "metadata": {},
   "outputs": [],
   "source": [
    "union(3,4)"
   ]
  },
  {
   "cell_type": "code",
   "execution_count": null,
   "metadata": {},
   "outputs": [],
   "source": []
  }
 ],
 "metadata": {
  "kernelspec": {
   "display_name": "Python 3",
   "language": "python",
   "name": "python3"
  },
  "language_info": {
   "codemirror_mode": {
    "name": "ipython",
    "version": 3
   },
   "file_extension": ".py",
   "mimetype": "text/x-python",
   "name": "python",
   "nbconvert_exporter": "python",
   "pygments_lexer": "ipython3",
   "version": "3.7.4"
  }
 },
 "nbformat": 4,
 "nbformat_minor": 2
}
